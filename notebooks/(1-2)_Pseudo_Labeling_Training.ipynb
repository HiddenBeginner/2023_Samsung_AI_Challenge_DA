{
 "cells": [
  {
   "cell_type": "markdown",
   "metadata": {},
   "source": [
    "**요약**\n",
    "- 미세조정된 SegFormer를 `train_source_image`, `train_target_image`, `val_source_image`에 다시 한 번 미세조정합니다.\n",
    "\n",
    "<br>\n",
    "\n",
    "**Inputs:**\n",
    "- `dir_data`: 데이터가 있는 디렉토리\n",
    "- `dir_ckpt`: 학습된 모델을 저장할 디렉토리\n",
    "- `path_ckpt`: 수도 레이블링을 생성한 미세조정된 SegFormer 모델의 체크포인트\n",
    "\n",
    "<br>\n",
    "\n",
    "**Outputs**:\n",
    "- f`{dir_ckpt}/1695950569_pl`: 수도 레이블링까지 학습한 모델 체크포인트"
   ]
  },
  {
   "cell_type": "code",
   "execution_count": 1,
   "metadata": {},
   "outputs": [],
   "source": [
    "dir_data = '../data'\n",
    "dir_ckpt = '../ckpt'\n",
    "path_ckpt = '../ckpt/1695288341/last_ckpt.bin'"
   ]
  },
  {
   "cell_type": "code",
   "execution_count": 2,
   "metadata": {},
   "outputs": [
    {
     "name": "stderr",
     "output_type": "stream",
     "text": [
      "/home/dongjin/miniconda3/envs/pssc/lib/python3.8/site-packages/tqdm/auto.py:21: TqdmWarning: IProgress not found. Please update jupyter and ipywidgets. See https://ipywidgets.readthedocs.io/en/stable/user_install.html\n",
      "  from .autonotebook import tqdm as notebook_tqdm\n",
      "Some weights of SegformerForSemanticSegmentation were not initialized from the model checkpoint at nvidia/segformer-b5-finetuned-cityscapes-1024-1024 and are newly initialized because the shapes did not match:\n",
      "- decode_head.classifier.weight: found shape torch.Size([19, 768, 1, 1]) in the checkpoint and torch.Size([13, 768, 1, 1]) in the model instantiated\n",
      "- decode_head.classifier.bias: found shape torch.Size([19]) in the checkpoint and torch.Size([13]) in the model instantiated\n",
      "You should probably TRAIN this model on a down-stream task to be able to use it for predictions and inference.\n",
      "Some weights of Mask2FormerForUniversalSegmentation were not initialized from the model checkpoint at facebook/mask2former-swin-large-cityscapes-semantic and are newly initialized because the shapes did not match:\n",
      "- class_predictor.bias: found shape torch.Size([20]) in the checkpoint and torch.Size([14]) in the model instantiated\n",
      "- class_predictor.weight: found shape torch.Size([20, 256]) in the checkpoint and torch.Size([14, 256]) in the model instantiated\n",
      "- criterion.empty_weight: found shape torch.Size([20]) in the checkpoint and torch.Size([14]) in the model instantiated\n",
      "You should probably TRAIN this model on a down-stream task to be able to use it for predictions and inference.\n"
     ]
    }
   ],
   "source": [
    "import sys\n",
    "sys.path.append('../')\n",
    "\n",
    "import os\n",
    "os.environ[\"CUDA_VISIBLE_DEVICES\"] = \"1\"\n",
    "\n",
    "import torch\n",
    "import pandas as pd\n",
    "\n",
    "from datetime import datetime\n",
    "from torch.utils.data import DataLoader\n",
    "from transformers import SegformerImageProcessor\n",
    "\n",
    "from segformers.utils import seed_all, print_env\n",
    "from segformers.config import pseudo_labeling_config\n",
    "from segformers.trainer import Trainer\n",
    "from segformers.networks import SegFormer\n",
    "from segformers.datasets import SourceDataset\n",
    "from segformers.transforms import augmentation_pl\n"
   ]
  },
  {
   "cell_type": "code",
   "execution_count": 3,
   "metadata": {},
   "outputs": [
    {
     "name": "stdout",
     "output_type": "stream",
     "text": [
      "========== System Information ==========\n",
      "DATE : 2023-10-04\n",
      "Pyton Version : 3.8.17\n",
      "PyTorch Version : 1.13.0\n",
      "OS : Linux 5.4.0-155-generic\n",
      "CPU spec : x86_64\n",
      "RAM spec : 503.73 GB\n",
      "Device 0:\n",
      "Name: NVIDIA A100-SXM4-40GB\n",
      "Total Memory: 40536.1875 MB\n",
      "Driver Version: 470.199.02\n",
      "==============================\n",
      "Device 1:\n",
      "Name: NVIDIA A100-SXM4-40GB\n",
      "Total Memory: 40536.1875 MB\n",
      "Driver Version: 470.199.02\n",
      "==============================\n",
      "Device 2:\n",
      "Name: NVIDIA A100-SXM4-40GB\n",
      "Total Memory: 40536.1875 MB\n",
      "Driver Version: 470.199.02\n",
      "==============================\n",
      "Device 3:\n",
      "Name: NVIDIA DGX Display\n",
      "Total Memory: 3911.875 MB\n",
      "Driver Version: 470.199.02\n",
      "==============================\n",
      "Device 4:\n",
      "Name: NVIDIA A100-SXM4-40GB\n",
      "Total Memory: 40536.1875 MB\n",
      "Driver Version: 470.199.02\n",
      "==============================\n"
     ]
    }
   ],
   "source": [
    "print_env()"
   ]
  },
  {
   "cell_type": "code",
   "execution_count": 4,
   "metadata": {},
   "outputs": [
    {
     "data": {
      "text/plain": [
       "<All keys matched successfully>"
      ]
     },
     "execution_count": 4,
     "metadata": {},
     "output_type": "execute_result"
    }
   ],
   "source": [
    "seed_all(pseudo_labeling_config['seed'])\n",
    "run_id = int(datetime.timestamp(datetime.now()))\n",
    "pseudo_labeling_config['run_id'] = run_id\n",
    "pseudo_labeling_config['dir_ckpt'] = os.path.join(dir_ckpt, str(run_id)+'_pl')\n",
    "os.makedirs(pseudo_labeling_config['dir_ckpt'])\n",
    "\n",
    "state_dict = torch.load(path_ckpt, map_location='cpu')\n",
    "model = SegFormer\n",
    "model.load_state_dict(state_dict['model_state_dict'])\n"
   ]
  },
  {
   "cell_type": "code",
   "execution_count": 5,
   "metadata": {},
   "outputs": [],
   "source": [
    "image_processor = SegformerImageProcessor(\n",
    "    image_mean=[0.485, 0.456, 0.406],\n",
    "    image_std=[0.229, 0.224, 0.225],\n",
    ")\n",
    "\n",
    "train_dataset = SourceDataset(\n",
    "    root=dir_data,\n",
    "    csv_file='full_pl.csv',\n",
    "    image_processor=image_processor,\n",
    "    transform=augmentation_pl,\n",
    "    is_training=True\n",
    ")\n",
    "\n",
    "valid_dataset = SourceDataset(\n",
    "    root=dir_data,\n",
    "    csv_file='full_pl.csv',\n",
    "    image_processor=image_processor,\n",
    "    transform=None,\n",
    "    is_training=True\n",
    ")\n",
    "\n",
    "train_loader = DataLoader(train_dataset, batch_size=8, shuffle=True, num_workers=4)\n",
    "valid_loader = DataLoader(valid_dataset, batch_size=8, shuffle=False, num_workers=4)"
   ]
  },
  {
   "cell_type": "code",
   "execution_count": 6,
   "metadata": {},
   "outputs": [
    {
     "name": "stderr",
     "output_type": "stream",
     "text": [
      "Failed to detect the name of this notebook, you can set it manually with the WANDB_NOTEBOOK_NAME environment variable to enable code saving.\n",
      "\u001b[34m\u001b[1mwandb\u001b[0m: Currently logged in as: \u001b[33mdongjinlee\u001b[0m. Use \u001b[1m`wandb login --relogin`\u001b[0m to force relogin\n"
     ]
    },
    {
     "data": {
      "text/html": [
       "wandb version 0.15.11 is available!  To upgrade, please run:\n",
       " $ pip install wandb --upgrade"
      ],
      "text/plain": [
       "<IPython.core.display.HTML object>"
      ]
     },
     "metadata": {},
     "output_type": "display_data"
    },
    {
     "data": {
      "text/html": [
       "Tracking run with wandb version 0.15.9"
      ],
      "text/plain": [
       "<IPython.core.display.HTML object>"
      ]
     },
     "metadata": {},
     "output_type": "display_data"
    },
    {
     "data": {
      "text/html": [
       "Run data is saved locally in <code>/home/dongjin/projects/da/notebooks/wandb/run-20231004_095630-1njyq5q8</code>"
      ],
      "text/plain": [
       "<IPython.core.display.HTML object>"
      ]
     },
     "metadata": {},
     "output_type": "display_data"
    },
    {
     "data": {
      "text/html": [
       "Syncing run <strong><a href='https://wandb.ai/dongjinlee/DA/runs/1njyq5q8' target=\"_blank\">SegFormer-b5_PseudoLabeling</a></strong> to <a href='https://wandb.ai/dongjinlee/DA' target=\"_blank\">Weights & Biases</a> (<a href='https://wandb.me/run' target=\"_blank\">docs</a>)<br/>"
      ],
      "text/plain": [
       "<IPython.core.display.HTML object>"
      ]
     },
     "metadata": {},
     "output_type": "display_data"
    },
    {
     "data": {
      "text/html": [
       " View project at <a href='https://wandb.ai/dongjinlee/DA' target=\"_blank\">https://wandb.ai/dongjinlee/DA</a>"
      ],
      "text/plain": [
       "<IPython.core.display.HTML object>"
      ]
     },
     "metadata": {},
     "output_type": "display_data"
    },
    {
     "data": {
      "text/html": [
       " View run at <a href='https://wandb.ai/dongjinlee/DA/runs/1njyq5q8' target=\"_blank\">https://wandb.ai/dongjinlee/DA/runs/1njyq5q8</a>"
      ],
      "text/plain": [
       "<IPython.core.display.HTML object>"
      ]
     },
     "metadata": {},
     "output_type": "display_data"
    }
   ],
   "source": [
    "trainer = Trainer(model, pseudo_labeling_config)"
   ]
  },
  {
   "cell_type": "code",
   "execution_count": 7,
   "metadata": {},
   "outputs": [
    {
     "name": "stdout",
     "output_type": "stream",
     "text": [
      "Epoch: 1.0000 | LR: 0.0000 | train_Loss: 0.2918 | train_mIoU: 0.7168 | valid_Loss: 0.5104 | valid_mIoU: 0.6013 |\n",
      "Epoch: 2.0000 | LR: 0.0000 | train_Loss: 0.1346 | train_mIoU: 0.7343 | valid_Loss: 0.1607 | valid_mIoU: 0.6431 |\n",
      "Epoch: 3.0000 | LR: 0.0000 | train_Loss: 0.0847 | train_mIoU: 0.7441 | valid_Loss: 0.1402 | valid_mIoU: 0.6463 |\n",
      "Epoch: 4.0000 | LR: 0.0000 | train_Loss: 0.0756 | train_mIoU: 0.7526 | valid_Loss: 0.1377 | valid_mIoU: 0.6489 |\n",
      "Epoch: 5.0000 | LR: 0.0000 | train_Loss: 0.0729 | train_mIoU: 0.7586 | valid_Loss: 0.1318 | valid_mIoU: 0.6527 |\n"
     ]
    },
    {
     "data": {
      "text/html": [
       "Waiting for W&B process to finish... <strong style=\"color:green\">(success).</strong>"
      ],
      "text/plain": [
       "<IPython.core.display.HTML object>"
      ]
     },
     "metadata": {},
     "output_type": "display_data"
    },
    {
     "name": "stderr",
     "output_type": "stream",
     "text": [
      "wandb: WARNING Source type is set to 'repo' but some required information is missing from the environment. A job will not be created from this run. See https://docs.wandb.ai/guides/launch/create-job\n"
     ]
    },
    {
     "data": {
      "text/html": [
       "<style>\n",
       "    table.wandb td:nth-child(1) { padding: 0 10px; text-align: left ; width: auto;} td:nth-child(2) {text-align: left ; width: 100%}\n",
       "    .wandb-row { display: flex; flex-direction: row; flex-wrap: wrap; justify-content: flex-start; width: 100% }\n",
       "    .wandb-col { display: flex; flex-direction: column; flex-basis: 100%; flex: 1; padding: 10px; }\n",
       "    </style>\n",
       "<div class=\"wandb-row\"><div class=\"wandb-col\"><h3>Run history:</h3><br/><table class=\"wandb\"><tr><td>Epoch</td><td>▁▃▅▆█</td></tr><tr><td>LR</td><td>▁▃▅▆█</td></tr><tr><td>train_Loss</td><td>█▃▁▁▁</td></tr><tr><td>train_mIoU</td><td>▁▄▆▇█</td></tr><tr><td>valid_Loss</td><td>█▂▁▁▁</td></tr><tr><td>valid_mIoU</td><td>▁▇▇▇█</td></tr></table><br/></div><div class=\"wandb-col\"><h3>Run summary:</h3><br/><table class=\"wandb\"><tr><td>Epoch</td><td>5</td></tr><tr><td>LR</td><td>1e-05</td></tr><tr><td>train_Loss</td><td>0.07291</td></tr><tr><td>train_mIoU</td><td>0.75862</td></tr><tr><td>valid_Loss</td><td>0.13184</td></tr><tr><td>valid_mIoU</td><td>0.65274</td></tr></table><br/></div></div>"
      ],
      "text/plain": [
       "<IPython.core.display.HTML object>"
      ]
     },
     "metadata": {},
     "output_type": "display_data"
    },
    {
     "data": {
      "text/html": [
       " View run <strong style=\"color:#cdcd00\">SegFormer-b5_PseudoLabeling</strong> at: <a href='https://wandb.ai/dongjinlee/DA/runs/1njyq5q8' target=\"_blank\">https://wandb.ai/dongjinlee/DA/runs/1njyq5q8</a><br/>Synced 6 W&B file(s), 0 media file(s), 0 artifact file(s) and 0 other file(s)"
      ],
      "text/plain": [
       "<IPython.core.display.HTML object>"
      ]
     },
     "metadata": {},
     "output_type": "display_data"
    },
    {
     "data": {
      "text/html": [
       "Find logs at: <code>./wandb/run-20231004_095630-1njyq5q8/logs</code>"
      ],
      "text/plain": [
       "<IPython.core.display.HTML object>"
      ]
     },
     "metadata": {},
     "output_type": "display_data"
    }
   ],
   "source": [
    "trainer.fit(train_loader, valid_loader)"
   ]
  }
 ],
 "metadata": {
  "kernelspec": {
   "display_name": "torch",
   "language": "python",
   "name": "python3"
  },
  "language_info": {
   "codemirror_mode": {
    "name": "ipython",
    "version": 3
   },
   "file_extension": ".py",
   "mimetype": "text/x-python",
   "name": "python",
   "nbconvert_exporter": "python",
   "pygments_lexer": "ipython3",
   "version": "3.8.17"
  },
  "orig_nbformat": 4
 },
 "nbformat": 4,
 "nbformat_minor": 2
}
