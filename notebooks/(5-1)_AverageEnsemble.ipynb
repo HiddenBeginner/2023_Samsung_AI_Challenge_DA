{
 "cells": [
  {
   "cell_type": "markdown",
   "metadata": {},
   "source": [
    "**요약**\n",
    "- 4개의 모델이 예측한 logits 또는 submission file을 불러와 평균 앙상블을 수행합니다.\n",
    "\n",
    "<br>\n",
    "\n",
    "**Inputs:**\n",
    "- `dir_data`: 데이터가 있는 디렉토리\n",
    "- `dir_save`: 제출 파일이 저장될 디렉토리\n",
    "- `path_cand1`: SegFormer + Pseudo labeling이 예측한 logits들이 저장된 디렉토리\n",
    "- `path_cand2`: SegFormer + DANN이 예측한 logits들이 저장된 디렉토리\n",
    "- `path_cand3`: SegFormer + Dice loss가 예측한 logits들이 저장된 디렉토리\n",
    "- `path_cand4`: Mask2Former가 예측한 submission 파일이 저장된 디렉토리\n",
    "- `outside_fname`: 공통 배경 마스크가 저장된 피클 파일 이름\n",
    "\n",
    "<br>\n",
    "\n",
    "**Outputs**:\n",
    "- f`{dir_save}/AverageEnsemble_Raw.csv: 평균 앙상블 예측 제출 파일"
   ]
  },
  {
   "cell_type": "code",
   "execution_count": 1,
   "metadata": {},
   "outputs": [],
   "source": [
    "dir_data = '../data'\n",
    "dir_save = '../outputs'\n",
    "\n",
    "path_cand1 = '../outputs/logits_tensors'\n",
    "path_cand2 = '../outputs/SegFormer'\n",
    "path_cand3 = '../outputs/SegFormer_Dice'\n",
    "path_cand4 = '../outputs/Mask2Former/Mask2Former.csv'\n",
    "\n",
    "outside_fname = '../outputs/total_sum_bg.pickle'"
   ]
  },
  {
   "cell_type": "code",
   "execution_count": 2,
   "metadata": {},
   "outputs": [
    {
     "name": "stderr",
     "output_type": "stream",
     "text": [
      "/home/dongjin/miniconda3/envs/torch/lib/python3.8/site-packages/tqdm/auto.py:21: TqdmWarning: IProgress not found. Please update jupyter and ipywidgets. See https://ipywidgets.readthedocs.io/en/stable/user_install.html\n",
      "  from .autonotebook import tqdm as notebook_tqdm\n"
     ]
    }
   ],
   "source": [
    "import sys\n",
    "sys.path.append('../')\n",
    "\n",
    "import os\n",
    "\n",
    "import cv2\n",
    "import torch\n",
    "import pickle\n",
    "import numpy as np\n",
    "import pandas as pd\n",
    "\n",
    "from tqdm import tqdm\n",
    "\n",
    "from segformers.utils import rle_encode, rle2mask\n",
    "from segformers.losses import label_to_one_hot_label"
   ]
  },
  {
   "cell_type": "code",
   "execution_count": 3,
   "metadata": {},
   "outputs": [],
   "source": [
    "df = pd.read_csv(os.path.join(dir_data, 'test.csv'))\n",
    "\n",
    "with open(outside_fname, 'rb') as f:\n",
    "    outside2 = pickle.load(f)\n",
    "outside2 = cv2.resize(outside2, (960, 540), interpolation=cv2.INTER_NEAREST)\n"
   ]
  },
  {
   "cell_type": "code",
   "execution_count": 4,
   "metadata": {},
   "outputs": [
    {
     "name": "stderr",
     "output_type": "stream",
     "text": [
      "100%|██████████| 1898/1898 [09:50<00:00,  3.21it/s]\n"
     ]
    }
   ],
   "source": [
    "cand4_csv = pd.read_csv(path_cand4)\n",
    "\n",
    "row = 0\n",
    "masks = []\n",
    "result = []\n",
    "\n",
    "for i in tqdm(range(len(df))):\n",
    "    cand1 = torch.load(os.path.join(path_cand1, f'prediction_{i}.pt'), map_location='cpu')\n",
    "    cand1 = torch.softmax(cand1, dim=1)[0].cpu().numpy()\n",
    "\n",
    "    cand2 = np.load(os.path.join(path_cand2, f'{i}.npy'))[np.newaxis]\n",
    "    cand2 = torch.as_tensor(cand2)\n",
    "    cand2 = torch.softmax(cand2, dim=1)[0].cpu().numpy()\n",
    "    outside1 = np.argmax(cand2, axis=0) == 12\n",
    "\n",
    "    cand3 = np.load(os.path.join(path_cand3, f'{i}.npy'))[np.newaxis]\n",
    "    cand3 = torch.as_tensor(cand3)\n",
    "    cand3 = torch.softmax(cand3, dim=1)[0].cpu().numpy()\n",
    "\n",
    "    cand4_mask = np.zeros((540, 960)) + 12\n",
    "    for c in range(12):\n",
    "        if not cand4_csv.loc[row, 'mask_rle'] == '-1':\n",
    "            m = rle2mask(cand4_csv.loc[row, 'mask_rle'], label=1)\n",
    "            cand4_mask[np.where(m == 1)] = c\n",
    "        row +=1\n",
    "    cand4 = label_to_one_hot_label(torch.as_tensor(cand4_mask).unsqueeze(0).long(), 13).float() * 0.90\n",
    "    cand4 = cand4.cpu().numpy()[0]\n",
    "\n",
    "    logit = (cand1 + cand2 + cand3 + cand4) / 4.0\n",
    "    mask = logit.argmax(axis=0).astype(np.int32)\n",
    "    \n",
    "    mask[np.where(outside1 == 1)] = 12\n",
    "    mask[np.where(outside2 == 1)] = 12\n",
    "\n",
    "    # class 0 ~ 11에 해당하는 경우에 마스크 형성 / 12(배경)는 제외하고 진행\n",
    "    for class_id in range(12):\n",
    "        class_mask = (mask == class_id).astype(np.int32)\n",
    "        if np.sum(class_mask) > 0: # 마스크가 존재하는 경우 encode\n",
    "            mask_rle = rle_encode(class_mask)\n",
    "            result.append(mask_rle)\n",
    "        else: # 마스크가 존재하지 않는 경우 -1\n",
    "            result.append(-1)\n",
    "            \n",
    "    masks.append(mask)"
   ]
  },
  {
   "cell_type": "code",
   "execution_count": 5,
   "metadata": {},
   "outputs": [
    {
     "data": {
      "text/html": [
       "<div>\n",
       "<style scoped>\n",
       "    .dataframe tbody tr th:only-of-type {\n",
       "        vertical-align: middle;\n",
       "    }\n",
       "\n",
       "    .dataframe tbody tr th {\n",
       "        vertical-align: top;\n",
       "    }\n",
       "\n",
       "    .dataframe thead th {\n",
       "        text-align: right;\n",
       "    }\n",
       "</style>\n",
       "<table border=\"1\" class=\"dataframe\">\n",
       "  <thead>\n",
       "    <tr style=\"text-align: right;\">\n",
       "      <th></th>\n",
       "      <th>id</th>\n",
       "      <th>mask_rle</th>\n",
       "    </tr>\n",
       "  </thead>\n",
       "  <tbody>\n",
       "    <tr>\n",
       "      <th>0</th>\n",
       "      <td>TEST_0000_class_0</td>\n",
       "      <td>212628 5 212636 5 213573 1 213585 1 213587 24 ...</td>\n",
       "    </tr>\n",
       "    <tr>\n",
       "      <th>1</th>\n",
       "      <td>TEST_0000_class_1</td>\n",
       "      <td>-1</td>\n",
       "    </tr>\n",
       "    <tr>\n",
       "      <th>2</th>\n",
       "      <td>TEST_0000_class_2</td>\n",
       "      <td>598 276 1558 276 2517 278 3476 279 4436 280 53...</td>\n",
       "    </tr>\n",
       "    <tr>\n",
       "      <th>3</th>\n",
       "      <td>TEST_0000_class_3</td>\n",
       "      <td>207757 2 208707 21 209656 53 210608 74 210696 ...</td>\n",
       "    </tr>\n",
       "    <tr>\n",
       "      <th>4</th>\n",
       "      <td>TEST_0000_class_4</td>\n",
       "      <td>-1</td>\n",
       "    </tr>\n",
       "    <tr>\n",
       "      <th>...</th>\n",
       "      <td>...</td>\n",
       "      <td>...</td>\n",
       "    </tr>\n",
       "    <tr>\n",
       "      <th>22771</th>\n",
       "      <td>TEST_1897_class_7</td>\n",
       "      <td>152250 8 153208 28 154166 35 155124 38 156083 ...</td>\n",
       "    </tr>\n",
       "    <tr>\n",
       "      <th>22772</th>\n",
       "      <td>TEST_1897_class_8</td>\n",
       "      <td>103 532 677 127 857 5 1062 533 1637 127 1817 5...</td>\n",
       "    </tr>\n",
       "    <tr>\n",
       "      <th>22773</th>\n",
       "      <td>TEST_1897_class_9</td>\n",
       "      <td>-1</td>\n",
       "    </tr>\n",
       "    <tr>\n",
       "      <th>22774</th>\n",
       "      <td>TEST_1897_class_10</td>\n",
       "      <td>-1</td>\n",
       "    </tr>\n",
       "    <tr>\n",
       "      <th>22775</th>\n",
       "      <td>TEST_1897_class_11</td>\n",
       "      <td>192385 5 192394 3 193338 25 194296 30 195255 3...</td>\n",
       "    </tr>\n",
       "  </tbody>\n",
       "</table>\n",
       "<p>22776 rows × 2 columns</p>\n",
       "</div>"
      ],
      "text/plain": [
       "                       id                                           mask_rle\n",
       "0       TEST_0000_class_0  212628 5 212636 5 213573 1 213585 1 213587 24 ...\n",
       "1       TEST_0000_class_1                                                 -1\n",
       "2       TEST_0000_class_2  598 276 1558 276 2517 278 3476 279 4436 280 53...\n",
       "3       TEST_0000_class_3  207757 2 208707 21 209656 53 210608 74 210696 ...\n",
       "4       TEST_0000_class_4                                                 -1\n",
       "...                   ...                                                ...\n",
       "22771   TEST_1897_class_7  152250 8 153208 28 154166 35 155124 38 156083 ...\n",
       "22772   TEST_1897_class_8  103 532 677 127 857 5 1062 533 1637 127 1817 5...\n",
       "22773   TEST_1897_class_9                                                 -1\n",
       "22774  TEST_1897_class_10                                                 -1\n",
       "22775  TEST_1897_class_11  192385 5 192394 3 193338 25 194296 30 195255 3...\n",
       "\n",
       "[22776 rows x 2 columns]"
      ]
     },
     "execution_count": 5,
     "metadata": {},
     "output_type": "execute_result"
    }
   ],
   "source": [
    "submit = pd.read_csv(os.path.join(dir_data, 'sample_submission.csv'))\n",
    "submit['mask_rle'] = result\n",
    "submit"
   ]
  },
  {
   "cell_type": "code",
   "execution_count": 6,
   "metadata": {},
   "outputs": [],
   "source": [
    "submit.to_csv(os.path.join(dir_save, './AverageEnsemble_Raw.csv'), index=False)"
   ]
  }
 ],
 "metadata": {
  "kernelspec": {
   "display_name": "torch",
   "language": "python",
   "name": "python3"
  },
  "language_info": {
   "codemirror_mode": {
    "name": "ipython",
    "version": 3
   },
   "file_extension": ".py",
   "mimetype": "text/x-python",
   "name": "python",
   "nbconvert_exporter": "python",
   "pygments_lexer": "ipython3",
   "version": "3.8.17"
  },
  "orig_nbformat": 4
 },
 "nbformat": 4,
 "nbformat_minor": 2
}
