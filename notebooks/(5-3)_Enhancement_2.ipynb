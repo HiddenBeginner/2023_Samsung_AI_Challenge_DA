{
 "cells": [
  {
   "cell_type": "code",
   "execution_count": 1,
   "metadata": {},
   "outputs": [],
   "source": [
    "dir_data = '../data'\n",
    "fname = 'AverageEnsemble_Raw.csv'\n",
    "\n",
    "outside_fname = '/home/eunwoo/experiment/PSSC/Oneformer(instance)/result/background7_abandon65/total_sum_bg.pickle'"
   ]
  },
  {
   "cell_type": "code",
   "execution_count": 2,
   "metadata": {},
   "outputs": [
    {
     "name": "stderr",
     "output_type": "stream",
     "text": [
      "/home/dongjin/miniconda3/envs/torch/lib/python3.8/site-packages/tqdm/auto.py:21: TqdmWarning: IProgress not found. Please update jupyter and ipywidgets. See https://ipywidgets.readthedocs.io/en/stable/user_install.html\n",
      "  from .autonotebook import tqdm as notebook_tqdm\n"
     ]
    }
   ],
   "source": [
    "import sys\n",
    "sys.path.append('../')\n",
    "\n",
    "import os\n",
    "\n",
    "import cv2\n",
    "import torch\n",
    "import pickle\n",
    "import numpy as np\n",
    "import pandas as pd\n",
    "import matplotlib.pyplot as plt\n",
    "\n",
    "from tqdm import tqdm\n",
    "\n",
    "from segformers.utils import custom_cmap, rle_encode"
   ]
  },
  {
   "cell_type": "code",
   "execution_count": 3,
   "metadata": {},
   "outputs": [],
   "source": [
    "def rle2mask(mask_rle, label=1, shape=(540, 960)):\n",
    "    s = mask_rle.split()\n",
    "    starts, lengths = [np.asarray(x, dtype=int) for x in (s[0:][::2], s[1:][::2])]\n",
    "    starts -= 1\n",
    "    ends = starts + lengths\n",
    "    img = np.zeros(shape[0] * shape[1], dtype=np.uint8)\n",
    "    for lo, hi in zip(starts, ends):\n",
    "        img[lo:hi] = label\n",
    "    return img.reshape(shape)"
   ]
  },
  {
   "cell_type": "code",
   "execution_count": 4,
   "metadata": {},
   "outputs": [],
   "source": [
    "df = pd.read_csv(os.path.join(dir_data, 'test.csv'))\n",
    "\n",
    "with open(outside_fname, 'rb') as f:\n",
    "    outside2 = pickle.load(f)[0]\n",
    "outside2 = cv2.resize(outside2, (960, 540), interpolation=cv2.INTER_NEAREST)\n"
   ]
  },
  {
   "cell_type": "code",
   "execution_count": 5,
   "metadata": {},
   "outputs": [],
   "source": [
    "with open('/home/eunwoo/experiment/PSSC/Oneformer(instance)/result/cross_ensemble/result_4_new.pickle', 'rb') as f:\n",
    "    result_4 = pickle.load(f)\n",
    "\n",
    "# load\n",
    "with open('/home/eunwoo/experiment/PSSC/Oneformer(instance)/result/cross_ensemble/result_5_new.pickle', 'rb') as f:\n",
    "    result_5 = pickle.load(f)\n",
    "\n",
    "# load\n",
    "with open('/home/eunwoo/experiment/PSSC/Oneformer(instance)/result/cross_ensemble/result_9_new.pickle', 'rb') as f:\n",
    "    result_9 = pickle.load(f)"
   ]
  },
  {
   "cell_type": "code",
   "execution_count": 6,
   "metadata": {},
   "outputs": [
    {
     "name": "stderr",
     "output_type": "stream",
     "text": [
      "100%|██████████| 1898/1898 [01:06<00:00, 28.75it/s]\n"
     ]
    }
   ],
   "source": [
    "df = pd.read_csv(fname)\n",
    "\n",
    "row = 0\n",
    "before = []\n",
    "after = []\n",
    "result = []\n",
    "for i in tqdm(range(1898)):\n",
    "    mask = np.zeros((540, 960)) + 12\n",
    "    for c in range(12):\n",
    "        if not df.loc[row, 'mask_rle'] == '-1':\n",
    "            m = rle2mask(df.loc[row, 'mask_rle'], label=1)\n",
    "            mask[np.where(m == 1)] = c\n",
    "        row +=1\n",
    "    before.append(mask)\n",
    "\n",
    "    outside1 = mask == 12\n",
    "    \n",
    "    mask = mask.copy()\n",
    "    \n",
    "    new_mask_4 = result_4[i]\n",
    "    new_mask_5 = result_5[i]\n",
    "    new_mask_9 = result_9[i]\n",
    "\n",
    "    mask[np.where(new_mask_4 == 1)] = 4\n",
    "    mask[np.where(new_mask_5 == 1)] = 5\n",
    "    mask[np.where(new_mask_9 == 1)] = 9\n",
    "    \n",
    "    mask = mask.astype(np.int32)\n",
    "    \n",
    "    # Remove noise\n",
    "    bincount = np.bincount(mask.flatten())\n",
    "    noise_classes = np.where((bincount > 0) & (bincount < 30))[0]\n",
    "    if len(noise_classes) > 0:\n",
    "        for c in noise_classes:\n",
    "            if c != 5:\n",
    "                mask[np.where(mask == c)] = 12\n",
    "                \n",
    "    mask[np.where(outside1 == 1)] = 12\n",
    "    mask[np.where(outside2 == 1)] = 12\n",
    "\n",
    "    after.append(mask)\n",
    "    # class 0 ~ 11에 해당하는 경우에 마스크 형성 / 12(배경)는 제외하고 진행\n",
    "    for class_id in range(12):\n",
    "        class_mask = (mask == class_id).astype(np.int32)\n",
    "        if np.sum(class_mask) > 0: # 마스크가 존재하는 경우 encode\n",
    "            mask_rle = rle_encode(class_mask)\n",
    "            result.append(mask_rle)\n",
    "        else: # 마스크가 존재하지 않는 경우 -1\n",
    "            result.append(-1)\n",
    "    "
   ]
  },
  {
   "cell_type": "code",
   "execution_count": 7,
   "metadata": {},
   "outputs": [
    {
     "data": {
      "text/html": [
       "<div>\n",
       "<style scoped>\n",
       "    .dataframe tbody tr th:only-of-type {\n",
       "        vertical-align: middle;\n",
       "    }\n",
       "\n",
       "    .dataframe tbody tr th {\n",
       "        vertical-align: top;\n",
       "    }\n",
       "\n",
       "    .dataframe thead th {\n",
       "        text-align: right;\n",
       "    }\n",
       "</style>\n",
       "<table border=\"1\" class=\"dataframe\">\n",
       "  <thead>\n",
       "    <tr style=\"text-align: right;\">\n",
       "      <th></th>\n",
       "      <th>id</th>\n",
       "      <th>mask_rle</th>\n",
       "    </tr>\n",
       "  </thead>\n",
       "  <tbody>\n",
       "    <tr>\n",
       "      <th>0</th>\n",
       "      <td>TEST_0000_class_0</td>\n",
       "      <td>212628 5 212636 5 213573 1 213585 1 213587 24 ...</td>\n",
       "    </tr>\n",
       "    <tr>\n",
       "      <th>1</th>\n",
       "      <td>TEST_0000_class_1</td>\n",
       "      <td>-1</td>\n",
       "    </tr>\n",
       "    <tr>\n",
       "      <th>2</th>\n",
       "      <td>TEST_0000_class_2</td>\n",
       "      <td>598 276 1558 276 2517 278 3476 279 4436 280 53...</td>\n",
       "    </tr>\n",
       "    <tr>\n",
       "      <th>3</th>\n",
       "      <td>TEST_0000_class_3</td>\n",
       "      <td>207757 2 208707 21 209656 53 210608 74 210696 ...</td>\n",
       "    </tr>\n",
       "    <tr>\n",
       "      <th>4</th>\n",
       "      <td>TEST_0000_class_4</td>\n",
       "      <td>-1</td>\n",
       "    </tr>\n",
       "    <tr>\n",
       "      <th>...</th>\n",
       "      <td>...</td>\n",
       "      <td>...</td>\n",
       "    </tr>\n",
       "    <tr>\n",
       "      <th>22771</th>\n",
       "      <td>TEST_1897_class_7</td>\n",
       "      <td>152250 8 153208 28 154166 35 155124 38 156083 ...</td>\n",
       "    </tr>\n",
       "    <tr>\n",
       "      <th>22772</th>\n",
       "      <td>TEST_1897_class_8</td>\n",
       "      <td>103 532 677 127 857 5 1062 533 1637 127 1817 5...</td>\n",
       "    </tr>\n",
       "    <tr>\n",
       "      <th>22773</th>\n",
       "      <td>TEST_1897_class_9</td>\n",
       "      <td>-1</td>\n",
       "    </tr>\n",
       "    <tr>\n",
       "      <th>22774</th>\n",
       "      <td>TEST_1897_class_10</td>\n",
       "      <td>-1</td>\n",
       "    </tr>\n",
       "    <tr>\n",
       "      <th>22775</th>\n",
       "      <td>TEST_1897_class_11</td>\n",
       "      <td>192385 5 192394 3 193338 25 194296 30 195255 3...</td>\n",
       "    </tr>\n",
       "  </tbody>\n",
       "</table>\n",
       "<p>22776 rows × 2 columns</p>\n",
       "</div>"
      ],
      "text/plain": [
       "                       id                                           mask_rle\n",
       "0       TEST_0000_class_0  212628 5 212636 5 213573 1 213585 1 213587 24 ...\n",
       "1       TEST_0000_class_1                                                 -1\n",
       "2       TEST_0000_class_2  598 276 1558 276 2517 278 3476 279 4436 280 53...\n",
       "3       TEST_0000_class_3  207757 2 208707 21 209656 53 210608 74 210696 ...\n",
       "4       TEST_0000_class_4                                                 -1\n",
       "...                   ...                                                ...\n",
       "22771   TEST_1897_class_7  152250 8 153208 28 154166 35 155124 38 156083 ...\n",
       "22772   TEST_1897_class_8  103 532 677 127 857 5 1062 533 1637 127 1817 5...\n",
       "22773   TEST_1897_class_9                                                 -1\n",
       "22774  TEST_1897_class_10                                                 -1\n",
       "22775  TEST_1897_class_11  192385 5 192394 3 193338 25 194296 30 195255 3...\n",
       "\n",
       "[22776 rows x 2 columns]"
      ]
     },
     "execution_count": 7,
     "metadata": {},
     "output_type": "execute_result"
    }
   ],
   "source": [
    "submit = pd.read_csv('../data/sample_submission.csv')\n",
    "submit['mask_rle'] = result\n",
    "submit"
   ]
  },
  {
   "cell_type": "code",
   "execution_count": 8,
   "metadata": {},
   "outputs": [],
   "source": [
    "submit.to_csv('./AverageEnemble_Enhancement_30.csv', index=False)"
   ]
  },
  {
   "cell_type": "code",
   "execution_count": 9,
   "metadata": {},
   "outputs": [
    {
     "data": {
      "text/plain": [
       "<matplotlib.image.AxesImage at 0x7fae883bb670>"
      ]
     },
     "execution_count": 9,
     "metadata": {},
     "output_type": "execute_result"
    },
    {
     "data": {
      "image/png": "[encoded data removed]",
      "text/plain": [
       "<Figure size 640x480 with 1 Axes>"
      ]
     },
     "metadata": {},
     "output_type": "display_data"
    }
   ],
   "source": [
    "plt.imshow(before[785], cmap=custom_cmap, alpha=0.5)"
   ]
  },
  {
   "cell_type": "code",
   "execution_count": null,
   "metadata": {},
   "outputs": [],
   "source": []
  },
  {
   "cell_type": "code",
   "execution_count": null,
   "metadata": {},
   "outputs": [],
   "source": []
  }
 ],
 "metadata": {
  "kernelspec": {
   "display_name": "torch",
   "language": "python",
   "name": "python3"
  },
  "language_info": {
   "codemirror_mode": {
    "name": "ipython",
    "version": 3
   },
   "file_extension": ".py",
   "mimetype": "text/x-python",
   "name": "python",
   "nbconvert_exporter": "python",
   "pygments_lexer": "ipython3",
   "version": "3.8.17"
  },
  "orig_nbformat": 4
 },
 "nbformat": 4,
 "nbformat_minor": 2
}
