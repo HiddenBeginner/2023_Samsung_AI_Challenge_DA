{
 "cells": [
  {
   "cell_type": "code",
   "execution_count": 1,
   "metadata": {},
   "outputs": [],
   "source": [
    "dir_data = '../data'\n",
    "dir_ckpt = '../ckpt'"
   ]
  },
  {
   "cell_type": "code",
   "execution_count": 2,
   "metadata": {},
   "outputs": [
    {
     "name": "stderr",
     "output_type": "stream",
     "text": [
      "/home/dongjin/miniconda3/envs/torch/lib/python3.8/site-packages/tqdm/auto.py:21: TqdmWarning: IProgress not found. Please update jupyter and ipywidgets. See https://ipywidgets.readthedocs.io/en/stable/user_install.html\n",
      "  from .autonotebook import tqdm as notebook_tqdm\n",
      "Some weights of SegformerForSemanticSegmentation were not initialized from the model checkpoint at nvidia/segformer-b5-finetuned-cityscapes-1024-1024 and are newly initialized because the shapes did not match:\n",
      "- decode_head.classifier.weight: found shape torch.Size([19, 768, 1, 1]) in the checkpoint and torch.Size([13, 768, 1, 1]) in the model instantiated\n",
      "- decode_head.classifier.bias: found shape torch.Size([19]) in the checkpoint and torch.Size([13]) in the model instantiated\n",
      "You should probably TRAIN this model on a down-stream task to be able to use it for predictions and inference.\n"
     ]
    }
   ],
   "source": [
    "import sys\n",
    "sys.path.append('../')\n",
    "\n",
    "import os\n",
    "os.environ[\"CUDA_VISIBLE_DEVICES\"] = \"1\"\n",
    "\n",
    "from datetime import datetime\n",
    "from torch.utils.data import DataLoader\n",
    "from transformers import SegformerImageProcessor\n",
    "\n",
    "from segformers.utils import seed_all\n",
    "from segformers.config import config\n",
    "from segformers.trainer import Trainer\n",
    "from segformers.networks import SegFormer\n",
    "from segformers.datasets import SourceDataset, TargetDataset\n",
    "from segformers.transforms import augmentation\n"
   ]
  },
  {
   "cell_type": "code",
   "execution_count": 3,
   "metadata": {},
   "outputs": [],
   "source": [
    "seed_all(config['seed'])\n",
    "run_id = int(datetime.timestamp(datetime.now()))\n",
    "config['run_id'] = run_id\n",
    "config['dir_ckpt'] = os.path.join(dir_ckpt, str(run_id))\n",
    "os.makedirs(config['dir_ckpt'])\n"
   ]
  },
  {
   "cell_type": "code",
   "execution_count": 4,
   "metadata": {},
   "outputs": [],
   "source": [
    "model = SegFormer\n",
    "image_processor = SegformerImageProcessor(\n",
    "    image_mean=[0.485, 0.456, 0.406],\n",
    "    image_std=[0.229, 0.224, 0.225],\n",
    ")\n",
    "\n",
    "train_dataset = SourceDataset(\n",
    "    root=dir_data,\n",
    "    csv_file='full.csv',\n",
    "    image_processor=image_processor,\n",
    "    transform=augmentation,\n",
    "    is_training=True\n",
    ")\n",
    "\n",
    "\n",
    "valid_dataset = SourceDataset(\n",
    "    root=dir_data,\n",
    "    csv_file='full.csv',\n",
    "    image_processor=image_processor,\n",
    "    transform=None,\n",
    "    is_training=True\n",
    ")\n",
    "\n",
    "train_loader = DataLoader(train_dataset, batch_size=8, shuffle=True, num_workers=4)\n",
    "valid_loader = DataLoader(valid_dataset, batch_size=8, shuffle=False, num_workers=4)"
   ]
  },
  {
   "cell_type": "code",
   "execution_count": 5,
   "metadata": {},
   "outputs": [
    {
     "name": "stderr",
     "output_type": "stream",
     "text": [
      "Failed to detect the name of this notebook, you can set it manually with the WANDB_NOTEBOOK_NAME environment variable to enable code saving.\n",
      "\u001b[34m\u001b[1mwandb\u001b[0m: Currently logged in as: \u001b[33mdongjinlee\u001b[0m. Use \u001b[1m`wandb login --relogin`\u001b[0m to force relogin\n"
     ]
    },
    {
     "data": {
      "text/html": [
       "wandb version 0.15.11 is available!  To upgrade, please run:\n",
       " $ pip install wandb --upgrade"
      ],
      "text/plain": [
       "<IPython.core.display.HTML object>"
      ]
     },
     "metadata": {},
     "output_type": "display_data"
    },
    {
     "data": {
      "text/html": [
       "Tracking run with wandb version 0.15.9"
      ],
      "text/plain": [
       "<IPython.core.display.HTML object>"
      ]
     },
     "metadata": {},
     "output_type": "display_data"
    },
    {
     "data": {
      "text/html": [
       "Run data is saved locally in <code>/home/dongjin/projects/da/notebooks/wandb/run-20230926_161709-i7pg7se1</code>"
      ],
      "text/plain": [
       "<IPython.core.display.HTML object>"
      ]
     },
     "metadata": {},
     "output_type": "display_data"
    },
    {
     "data": {
      "text/html": [
       "Syncing run <strong><a href='https://wandb.ai/dongjinlee/DA/runs/i7pg7se1' target=\"_blank\">SegFormer-b5_512_MultiScale_Full_ClassWeight</a></strong> to <a href='https://wandb.ai/dongjinlee/DA' target=\"_blank\">Weights & Biases</a> (<a href='https://wandb.me/run' target=\"_blank\">docs</a>)<br/>"
      ],
      "text/plain": [
       "<IPython.core.display.HTML object>"
      ]
     },
     "metadata": {},
     "output_type": "display_data"
    },
    {
     "data": {
      "text/html": [
       " View project at <a href='https://wandb.ai/dongjinlee/DA' target=\"_blank\">https://wandb.ai/dongjinlee/DA</a>"
      ],
      "text/plain": [
       "<IPython.core.display.HTML object>"
      ]
     },
     "metadata": {},
     "output_type": "display_data"
    },
    {
     "data": {
      "text/html": [
       " View run at <a href='https://wandb.ai/dongjinlee/DA/runs/i7pg7se1' target=\"_blank\">https://wandb.ai/dongjinlee/DA/runs/i7pg7se1</a>"
      ],
      "text/plain": [
       "<IPython.core.display.HTML object>"
      ]
     },
     "metadata": {},
     "output_type": "display_data"
    }
   ],
   "source": [
    "trainer = Trainer(model, config)"
   ]
  },
  {
   "cell_type": "code",
   "execution_count": 6,
   "metadata": {},
   "outputs": [
    {
     "name": "stdout",
     "output_type": "stream",
     "text": [
      "Epoch: 1.0000 | LR: 0.0000 | train_Loss: 2.5807 | train_mIoU: 0.0299 | valid_Loss: 2.5908 | valid_mIoU: 0.0301 |\n",
      "Epoch: 2.0000 | LR: 0.0000 | train_Loss: 1.4097 | train_mIoU: 0.2611 | valid_Loss: 1.1355 | valid_mIoU: 0.3816 |\n",
      "Epoch: 3.0000 | LR: 0.0000 | train_Loss: 0.5892 | train_mIoU: 0.4206 | valid_Loss: 0.5389 | valid_mIoU: 0.4299 |\n",
      "Epoch: 4.0000 | LR: 0.0001 | train_Loss: 0.3969 | train_mIoU: 0.4532 | valid_Loss: 0.4204 | valid_mIoU: 0.4494 |\n",
      "Epoch: 5.0000 | LR: 0.0001 | train_Loss: 0.3091 | train_mIoU: 0.4746 | valid_Loss: 0.3396 | valid_mIoU: 0.4759 |\n",
      "Epoch: 6.0000 | LR: 0.0001 | train_Loss: 0.2761 | train_mIoU: 0.4776 | valid_Loss: 0.4175 | valid_mIoU: 0.4087 |\n",
      "Epoch: 7.0000 | LR: 0.0001 | train_Loss: 0.2843 | train_mIoU: 0.4771 | valid_Loss: 0.3306 | valid_mIoU: 0.4686 |\n",
      "Epoch: 8.0000 | LR: 0.0001 | train_Loss: 0.2376 | train_mIoU: 0.4958 | valid_Loss: 0.2848 | valid_mIoU: 0.5028 |\n",
      "Epoch: 9.0000 | LR: 0.0001 | train_Loss: 0.2086 | train_mIoU: 0.5035 | valid_Loss: 0.2970 | valid_mIoU: 0.4828 |\n",
      "Epoch: 10.0000 | LR: 0.0001 | train_Loss: 0.2225 | train_mIoU: 0.5072 | valid_Loss: 0.2855 | valid_mIoU: 0.4940 |\n",
      "Epoch: 11.0000 | LR: 0.0001 | train_Loss: 0.2076 | train_mIoU: 0.5120 | valid_Loss: 0.3032 | valid_mIoU: 0.4631 |\n",
      "Epoch: 12.0000 | LR: 0.0001 | train_Loss: 0.2049 | train_mIoU: 0.5074 | valid_Loss: 0.3311 | valid_mIoU: 0.4610 |\n",
      "Epoch: 13.0000 | LR: 0.0001 | train_Loss: 0.2076 | train_mIoU: 0.4966 | valid_Loss: 0.2791 | valid_mIoU: 0.4998 |\n",
      "Epoch: 14.0000 | LR: 0.0001 | train_Loss: 0.2169 | train_mIoU: 0.5131 | valid_Loss: 0.2706 | valid_mIoU: 0.4836 |\n",
      "Epoch: 15.0000 | LR: 0.0001 | train_Loss: 0.1735 | train_mIoU: 0.5304 | valid_Loss: 0.2447 | valid_mIoU: 0.5218 |\n",
      "Epoch: 16.0000 | LR: 0.0001 | train_Loss: 0.1780 | train_mIoU: 0.5319 | valid_Loss: 0.2579 | valid_mIoU: 0.5196 |\n",
      "Epoch: 17.0000 | LR: 0.0001 | train_Loss: 0.1779 | train_mIoU: 0.5334 | valid_Loss: 0.2460 | valid_mIoU: 0.5019 |\n",
      "Epoch: 18.0000 | LR: 0.0001 | train_Loss: 0.1639 | train_mIoU: 0.5385 | valid_Loss: 0.2594 | valid_mIoU: 0.5079 |\n",
      "Epoch: 19.0000 | LR: 0.0001 | train_Loss: 0.1654 | train_mIoU: 0.5376 | valid_Loss: 0.2538 | valid_mIoU: 0.5126 |\n",
      "Epoch: 20.0000 | LR: 0.0001 | train_Loss: 0.1654 | train_mIoU: 0.5334 | valid_Loss: 0.2626 | valid_mIoU: 0.4957 |\n",
      "Epoch: 21.0000 | LR: 0.0001 | train_Loss: 0.1636 | train_mIoU: 0.5404 | valid_Loss: 0.2389 | valid_mIoU: 0.5307 |\n",
      "Epoch: 22.0000 | LR: 0.0001 | train_Loss: 0.1635 | train_mIoU: 0.5459 | valid_Loss: 0.2285 | valid_mIoU: 0.5414 |\n",
      "Epoch: 23.0000 | LR: 0.0001 | train_Loss: 0.1499 | train_mIoU: 0.5515 | valid_Loss: 0.2396 | valid_mIoU: 0.5263 |\n",
      "Epoch: 24.0000 | LR: 0.0001 | train_Loss: 0.1372 | train_mIoU: 0.5677 | valid_Loss: 0.2286 | valid_mIoU: 0.5475 |\n",
      "Epoch: 25.0000 | LR: 0.0001 | train_Loss: 0.1339 | train_mIoU: 0.5673 | valid_Loss: 0.2114 | valid_mIoU: 0.5256 |\n",
      "Epoch: 26.0000 | LR: 0.0001 | train_Loss: 0.1313 | train_mIoU: 0.5708 | valid_Loss: 0.2291 | valid_mIoU: 0.5328 |\n",
      "Epoch: 27.0000 | LR: 0.0001 | train_Loss: 0.1262 | train_mIoU: 0.5777 | valid_Loss: 0.2092 | valid_mIoU: 0.5615 |\n",
      "Epoch: 28.0000 | LR: 0.0001 | train_Loss: 0.1244 | train_mIoU: 0.5788 | valid_Loss: 0.2098 | valid_mIoU: 0.5581 |\n",
      "Epoch: 29.0000 | LR: 0.0000 | train_Loss: 0.1224 | train_mIoU: 0.5788 | valid_Loss: 0.2357 | valid_mIoU: 0.5472 |\n",
      "Epoch: 30.0000 | LR: 0.0000 | train_Loss: 0.1278 | train_mIoU: 0.5841 | valid_Loss: 0.2199 | valid_mIoU: 0.5416 |\n",
      "Epoch: 31.0000 | LR: 0.0000 | train_Loss: 0.1179 | train_mIoU: 0.5917 | valid_Loss: 0.2179 | valid_mIoU: 0.5541 |\n",
      "Epoch: 32.0000 | LR: 0.0000 | train_Loss: 0.1259 | train_mIoU: 0.5864 | valid_Loss: 0.2205 | valid_mIoU: 0.5392 |\n",
      "Epoch: 33.0000 | LR: 0.0000 | train_Loss: 0.1167 | train_mIoU: 0.5915 | valid_Loss: 0.2031 | valid_mIoU: 0.5680 |\n",
      "Epoch: 34.0000 | LR: 0.0000 | train_Loss: 0.1127 | train_mIoU: 0.5969 | valid_Loss: 0.1962 | valid_mIoU: 0.5741 |\n",
      "Epoch: 35.0000 | LR: 0.0000 | train_Loss: 0.1103 | train_mIoU: 0.6001 | valid_Loss: 0.2009 | valid_mIoU: 0.5686 |\n",
      "Epoch: 36.0000 | LR: 0.0000 | train_Loss: 0.1101 | train_mIoU: 0.6038 | valid_Loss: 0.1976 | valid_mIoU: 0.5781 |\n",
      "Epoch: 37.0000 | LR: 0.0000 | train_Loss: 0.1046 | train_mIoU: 0.6098 | valid_Loss: 0.2009 | valid_mIoU: 0.5710 |\n",
      "Epoch: 38.0000 | LR: 0.0000 | train_Loss: 0.1069 | train_mIoU: 0.6100 | valid_Loss: 0.1959 | valid_mIoU: 0.5810 |\n",
      "Epoch: 39.0000 | LR: 0.0000 | train_Loss: 0.1075 | train_mIoU: 0.6065 | valid_Loss: 0.1950 | valid_mIoU: 0.5781 |\n",
      "Epoch: 40.0000 | LR: 0.0000 | train_Loss: 0.1034 | train_mIoU: 0.6111 | valid_Loss: 0.2023 | valid_mIoU: 0.5790 |\n",
      "Epoch: 41.0000 | LR: 0.0000 | train_Loss: 0.1024 | train_mIoU: 0.6136 | valid_Loss: 0.1930 | valid_mIoU: 0.5806 |\n",
      "Epoch: 42.0000 | LR: 0.0000 | train_Loss: 0.1026 | train_mIoU: 0.6133 | valid_Loss: 0.1932 | valid_mIoU: 0.5733 |\n",
      "Epoch: 43.0000 | LR: 0.0000 | train_Loss: 0.0999 | train_mIoU: 0.6143 | valid_Loss: 0.1941 | valid_mIoU: 0.5810 |\n",
      "Epoch: 44.0000 | LR: 0.0000 | train_Loss: 0.1006 | train_mIoU: 0.6185 | valid_Loss: 0.1920 | valid_mIoU: 0.5856 |\n",
      "Epoch: 45.0000 | LR: 0.0000 | train_Loss: 0.1014 | train_mIoU: 0.6178 | valid_Loss: 0.1932 | valid_mIoU: 0.5820 |\n",
      "Epoch: 46.0000 | LR: 0.0000 | train_Loss: 0.0999 | train_mIoU: 0.6193 | valid_Loss: 0.1906 | valid_mIoU: 0.5848 |\n",
      "Epoch: 47.0000 | LR: 0.0000 | train_Loss: 0.1000 | train_mIoU: 0.6225 | valid_Loss: 0.1911 | valid_mIoU: 0.5864 |\n",
      "Epoch: 48.0000 | LR: 0.0000 | train_Loss: 0.1005 | train_mIoU: 0.6188 | valid_Loss: 0.1938 | valid_mIoU: 0.5832 |\n",
      "Epoch: 49.0000 | LR: 0.0000 | train_Loss: 0.0977 | train_mIoU: 0.6179 | valid_Loss: 0.1947 | valid_mIoU: 0.5817 |\n",
      "Epoch: 50.0000 | LR: 0.0000 | train_Loss: 0.0995 | train_mIoU: 0.6223 | valid_Loss: 0.1930 | valid_mIoU: 0.5830 |\n"
     ]
    },
    {
     "data": {
      "text/html": [
       "Waiting for W&B process to finish... <strong style=\"color:green\">(success).</strong>"
      ],
      "text/plain": [
       "<IPython.core.display.HTML object>"
      ]
     },
     "metadata": {},
     "output_type": "display_data"
    },
    {
     "name": "stderr",
     "output_type": "stream",
     "text": [
      "wandb: WARNING Source type is set to 'repo' but some required information is missing from the environment. A job will not be created from this run. See https://docs.wandb.ai/guides/launch/create-job\n"
     ]
    },
    {
     "data": {
      "text/html": [
       "<style>\n",
       "    table.wandb td:nth-child(1) { padding: 0 10px; text-align: left ; width: auto;} td:nth-child(2) {text-align: left ; width: 100%}\n",
       "    .wandb-row { display: flex; flex-direction: row; flex-wrap: wrap; justify-content: flex-start; width: 100% }\n",
       "    .wandb-col { display: flex; flex-direction: column; flex-basis: 100%; flex: 1; padding: 10px; }\n",
       "    </style>\n",
       "<div class=\"wandb-row\"><div class=\"wandb-col\"><h3>Run history:</h3><br/><table class=\"wandb\"><tr><td>Epoch</td><td>▁▁▁▁▂▂▂▂▂▃▃▃▃▃▃▄▄▄▄▄▅▅▅▅▅▅▆▆▆▆▆▆▇▇▇▇▇███</td></tr><tr><td>LR</td><td>▁▂▄▅███████▇▇▇▇▇▆▆▆▆▅▅▅▄▄▄▃▃▃▃▂▂▂▂▂▁▁▁▁▁</td></tr><tr><td>train_Loss</td><td>█▅▂▂▁▂▁▁▁▁▁▁▁▁▁▁▁▁▁▁▁▁▁▁▁▁▁▁▁▁▁▁▁▁▁▁▁▁▁▁</td></tr><tr><td>train_mIoU</td><td>▁▄▆▆▆▆▇▇▇▇▇▇▇▇▇▇▇▇▇▇▇▇▇▇████████████████</td></tr><tr><td>valid_Loss</td><td>█▄▂▂▂▁▁▁▁▁▁▁▁▁▁▁▁▁▁▁▁▁▁▁▁▁▁▁▁▁▁▁▁▁▁▁▁▁▁▁</td></tr><tr><td>valid_mIoU</td><td>▁▅▆▆▆▇▇▇▆▆▇▇▇▇▇▇▇▇▇█▇████▇██████████████</td></tr></table><br/></div><div class=\"wandb-col\"><h3>Run summary:</h3><br/><table class=\"wandb\"><tr><td>Epoch</td><td>50</td></tr><tr><td>LR</td><td>0.0</td></tr><tr><td>train_Loss</td><td>0.09946</td></tr><tr><td>train_mIoU</td><td>0.62227</td></tr><tr><td>valid_Loss</td><td>0.19297</td></tr><tr><td>valid_mIoU</td><td>0.58302</td></tr></table><br/></div></div>"
      ],
      "text/plain": [
       "<IPython.core.display.HTML object>"
      ]
     },
     "metadata": {},
     "output_type": "display_data"
    },
    {
     "data": {
      "text/html": [
       " View run <strong style=\"color:#cdcd00\">SegFormer-b5_512_MultiScale_Full_ClassWeight</strong> at: <a href='https://wandb.ai/dongjinlee/DA/runs/i7pg7se1' target=\"_blank\">https://wandb.ai/dongjinlee/DA/runs/i7pg7se1</a><br/>Synced 6 W&B file(s), 0 media file(s), 0 artifact file(s) and 0 other file(s)"
      ],
      "text/plain": [
       "<IPython.core.display.HTML object>"
      ]
     },
     "metadata": {},
     "output_type": "display_data"
    },
    {
     "data": {
      "text/html": [
       "Find logs at: <code>./wandb/run-20230926_161709-i7pg7se1/logs</code>"
      ],
      "text/plain": [
       "<IPython.core.display.HTML object>"
      ]
     },
     "metadata": {},
     "output_type": "display_data"
    }
   ],
   "source": [
    "trainer.fit(train_loader, valid_loader)"
   ]
  },
  {
   "cell_type": "code",
   "execution_count": null,
   "metadata": {},
   "outputs": [],
   "source": []
  }
 ],
 "metadata": {
  "kernelspec": {
   "display_name": "torch",
   "language": "python",
   "name": "python3"
  },
  "language_info": {
   "codemirror_mode": {
    "name": "ipython",
    "version": 3
   },
   "file_extension": ".py",
   "mimetype": "text/x-python",
   "name": "python",
   "nbconvert_exporter": "python",
   "pygments_lexer": "ipython3",
   "version": "3.8.17"
  },
  "orig_nbformat": 4
 },
 "nbformat": 4,
 "nbformat_minor": 2
}
